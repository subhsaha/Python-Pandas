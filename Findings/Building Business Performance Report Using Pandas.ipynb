{
 "cells": [
  {
   "cell_type": "markdown",
   "metadata": {},
   "source": [
    "### Objective"
   ]
  },
  {
   "cell_type": "markdown",
   "metadata": {},
   "source": [
    "###### Situation\n",
    "Excel, OBIEE , Tableau & Power BI are few of many reporting tools that currently exist in market and are used for presenting Weekly Business Report (WBR) to leadership . Each tool comes with its own pros and cons. Excel is probably the most used reporting tool  becasue of two major reason easy learning curve with multiple functions and also accesiable without any limitations, howver pros include laginess due to multiple formulas getting refreshed also with increase in data size dashboard faces multiple issues with refresh and loding . On the other side BIE tools such as Tableau also takes the advantage of easy learning curve but comes with high price for licensing and also dev support for server maintainance.\n",
    "\n",
    "###### Proposed solution\n",
    "\n",
    "Using pandas and easy-to-use data structures and data analysis tools for the Python programming language to replicate the same view that is created using Tableau or excel . Why Pandas ? Pandas comes with multiple powerful functionalities that let any user to perform tasks on data set that can be done using SQL, Excel and tableau combined. Being created on top of Python pandas let user write loops , functions , classes and other features of a programming langauge making complete end to end operation controlled by user without any feature limitations. Using pandas will also avoid dashboard update lags due to increase in size of the data.\n",
    "\n",
    "###### Impact\n",
    "\n",
    "* Cost effective - Pandas is opensource and requires no additional licensing cost.\n",
    "* Compatible with other packages - Pandas can be combined with other packages such as bokeh , matplotlib even with django to create an interactive view. \n",
    "* Easy learning curve - Not in comparission to excel or tableau but pandas when compared to other langauges can bank on easy learning curve.\n",
    "* Any IO format - Pandas can read data directly from SQL, excel , pdf and many other sources. Final output can also be shared in any required format csv , excel , html and more.\n",
    "\n",
    "###### Final Output\n",
    "\n",
    "By the end of the complete process a business report showing output for any dimensions at week , month , quarter and ytd grain(and can be controlled easily for any time range) from a raw sales data taken from Superstore sales.\n"
   ]
  },
  {
   "cell_type": "markdown",
   "metadata": {},
   "source": [
    "### import packages required\n"
   ]
  },
  {
   "cell_type": "code",
   "execution_count": 431,
   "metadata": {},
   "outputs": [],
   "source": [
    "import pandas as pd\n",
    "from functools import reduce"
   ]
  },
  {
   "cell_type": "markdown",
   "metadata": {},
   "source": [
    "### Load data as csv"
   ]
  },
  {
   "cell_type": "code",
   "execution_count": 375,
   "metadata": {},
   "outputs": [],
   "source": [
    "df = pd.read_csv('Sample - Superstore.csv')"
   ]
  },
  {
   "cell_type": "markdown",
   "metadata": {},
   "source": [
    "### Explore Data Content"
   ]
  },
  {
   "cell_type": "code",
   "execution_count": 376,
   "metadata": {},
   "outputs": [
    {
     "data": {
      "text/plain": [
       "(9994, 21)"
      ]
     },
     "execution_count": 376,
     "metadata": {},
     "output_type": "execute_result"
    }
   ],
   "source": [
    "df.shape #to check total number of rows and columns. Format:(rows,columns)"
   ]
  },
  {
   "cell_type": "code",
   "execution_count": 377,
   "metadata": {},
   "outputs": [
    {
     "data": {
      "text/plain": [
       "Row ID             int64\n",
       "Order ID          object\n",
       "Order Date        object\n",
       "Ship Date         object\n",
       "Ship Mode         object\n",
       "Customer ID       object\n",
       "Customer Name     object\n",
       "Segment           object\n",
       "Country           object\n",
       "City              object\n",
       "State             object\n",
       "Postal Code      float64\n",
       "Region            object\n",
       "Product ID        object\n",
       "Category          object\n",
       "Sub-Category      object\n",
       "Product Name      object\n",
       "Sales            float64\n",
       "Quantity           int64\n",
       "Discount         float64\n",
       "Profit           float64\n",
       "dtype: object"
      ]
     },
     "execution_count": 377,
     "metadata": {},
     "output_type": "execute_result"
    }
   ],
   "source": [
    "df.dtypes #to check data types for each column"
   ]
  },
  {
   "cell_type": "code",
   "execution_count": 378,
   "metadata": {},
   "outputs": [
    {
     "data": {
      "text/plain": [
       "Row ID            0\n",
       "Order ID          0\n",
       "Order Date        0\n",
       "Ship Date         0\n",
       "Ship Mode         0\n",
       "Customer ID       0\n",
       "Customer Name     0\n",
       "Segment           0\n",
       "Country           0\n",
       "City              0\n",
       "State             0\n",
       "Postal Code      11\n",
       "Region            0\n",
       "Product ID        0\n",
       "Category          0\n",
       "Sub-Category      0\n",
       "Product Name      0\n",
       "Sales             0\n",
       "Quantity          0\n",
       "Discount          0\n",
       "Profit            0\n",
       "dtype: int64"
      ]
     },
     "execution_count": 378,
     "metadata": {},
     "output_type": "execute_result"
    }
   ],
   "source": [
    "df.isnull().sum()  #to check number of missing values for each column"
   ]
  },
  {
   "cell_type": "markdown",
   "metadata": {},
   "source": [
    "We only have missing values for postal code, we can avoid dealing with it for our use case."
   ]
  },
  {
   "cell_type": "code",
   "execution_count": 432,
   "metadata": {},
   "outputs": [
    {
     "data": {
      "text/html": [
       "<div>\n",
       "<style scoped>\n",
       "    .dataframe tbody tr th:only-of-type {\n",
       "        vertical-align: middle;\n",
       "    }\n",
       "\n",
       "    .dataframe tbody tr th {\n",
       "        vertical-align: top;\n",
       "    }\n",
       "\n",
       "    .dataframe thead th {\n",
       "        text-align: right;\n",
       "    }\n",
       "</style>\n",
       "<table border=\"1\" class=\"dataframe\">\n",
       "  <thead>\n",
       "    <tr style=\"text-align: right;\">\n",
       "      <th></th>\n",
       "      <th>Row ID</th>\n",
       "      <th>Order ID</th>\n",
       "      <th>Order Date</th>\n",
       "      <th>Ship Date</th>\n",
       "      <th>Ship Mode</th>\n",
       "      <th>Customer ID</th>\n",
       "      <th>Customer Name</th>\n",
       "      <th>Segment</th>\n",
       "      <th>Country</th>\n",
       "      <th>City</th>\n",
       "      <th>...</th>\n",
       "      <th>Order Year</th>\n",
       "      <th>Order quarter</th>\n",
       "      <th>Order Month</th>\n",
       "      <th>year_week</th>\n",
       "      <th>year_month</th>\n",
       "      <th>year_quarter</th>\n",
       "      <th>Order Week Name</th>\n",
       "      <th>Order Month Name</th>\n",
       "      <th>Order quarter Name</th>\n",
       "      <th>Order year Name</th>\n",
       "    </tr>\n",
       "  </thead>\n",
       "  <tbody>\n",
       "    <tr>\n",
       "      <th>0</th>\n",
       "      <td>1</td>\n",
       "      <td>CA-2017-152156</td>\n",
       "      <td>2017-11-08</td>\n",
       "      <td>2017-11-11</td>\n",
       "      <td>Second Class</td>\n",
       "      <td>CG-12520</td>\n",
       "      <td>Claire Gute</td>\n",
       "      <td>Consumer</td>\n",
       "      <td>United States</td>\n",
       "      <td>Henderson</td>\n",
       "      <td>...</td>\n",
       "      <td>2017</td>\n",
       "      <td>4</td>\n",
       "      <td>11</td>\n",
       "      <td>201745</td>\n",
       "      <td>201711</td>\n",
       "      <td>20174</td>\n",
       "      <td>Wk-2017/45</td>\n",
       "      <td>Mth-2017/11</td>\n",
       "      <td>Qtr-2017/4</td>\n",
       "      <td>YTD-2017</td>\n",
       "    </tr>\n",
       "    <tr>\n",
       "      <th>1</th>\n",
       "      <td>2</td>\n",
       "      <td>CA-2017-152156</td>\n",
       "      <td>2017-11-08</td>\n",
       "      <td>2017-11-11</td>\n",
       "      <td>Second Class</td>\n",
       "      <td>CG-12520</td>\n",
       "      <td>Claire Gute</td>\n",
       "      <td>Consumer</td>\n",
       "      <td>United States</td>\n",
       "      <td>Henderson</td>\n",
       "      <td>...</td>\n",
       "      <td>2017</td>\n",
       "      <td>4</td>\n",
       "      <td>11</td>\n",
       "      <td>201745</td>\n",
       "      <td>201711</td>\n",
       "      <td>20174</td>\n",
       "      <td>Wk-2017/45</td>\n",
       "      <td>Mth-2017/11</td>\n",
       "      <td>Qtr-2017/4</td>\n",
       "      <td>YTD-2017</td>\n",
       "    </tr>\n",
       "    <tr>\n",
       "      <th>2</th>\n",
       "      <td>3</td>\n",
       "      <td>CA-2017-138688</td>\n",
       "      <td>2017-06-12</td>\n",
       "      <td>2017-06-16</td>\n",
       "      <td>Second Class</td>\n",
       "      <td>DV-13045</td>\n",
       "      <td>Darrin Van Huff</td>\n",
       "      <td>Corporate</td>\n",
       "      <td>United States</td>\n",
       "      <td>Los Angeles</td>\n",
       "      <td>...</td>\n",
       "      <td>2017</td>\n",
       "      <td>2</td>\n",
       "      <td>6</td>\n",
       "      <td>201724</td>\n",
       "      <td>20176</td>\n",
       "      <td>20172</td>\n",
       "      <td>Wk-2017/24</td>\n",
       "      <td>Mth-2017/6</td>\n",
       "      <td>Qtr-2017/2</td>\n",
       "      <td>YTD-2017</td>\n",
       "    </tr>\n",
       "    <tr>\n",
       "      <th>3</th>\n",
       "      <td>4</td>\n",
       "      <td>US-2016-108966</td>\n",
       "      <td>2016-10-11</td>\n",
       "      <td>2016-10-18</td>\n",
       "      <td>Standard Class</td>\n",
       "      <td>SO-20335</td>\n",
       "      <td>Sean O'Donnell</td>\n",
       "      <td>Consumer</td>\n",
       "      <td>United States</td>\n",
       "      <td>Fort Lauderdale</td>\n",
       "      <td>...</td>\n",
       "      <td>2016</td>\n",
       "      <td>4</td>\n",
       "      <td>10</td>\n",
       "      <td>201641</td>\n",
       "      <td>201610</td>\n",
       "      <td>20164</td>\n",
       "      <td>Wk-2016/41</td>\n",
       "      <td>Mth-2016/10</td>\n",
       "      <td>Qtr-2016/4</td>\n",
       "      <td>YTD-2016</td>\n",
       "    </tr>\n",
       "    <tr>\n",
       "      <th>4</th>\n",
       "      <td>5</td>\n",
       "      <td>US-2016-108966</td>\n",
       "      <td>2016-10-11</td>\n",
       "      <td>2016-10-18</td>\n",
       "      <td>Standard Class</td>\n",
       "      <td>SO-20335</td>\n",
       "      <td>Sean O'Donnell</td>\n",
       "      <td>Consumer</td>\n",
       "      <td>United States</td>\n",
       "      <td>Fort Lauderdale</td>\n",
       "      <td>...</td>\n",
       "      <td>2016</td>\n",
       "      <td>4</td>\n",
       "      <td>10</td>\n",
       "      <td>201641</td>\n",
       "      <td>201610</td>\n",
       "      <td>20164</td>\n",
       "      <td>Wk-2016/41</td>\n",
       "      <td>Mth-2016/10</td>\n",
       "      <td>Qtr-2016/4</td>\n",
       "      <td>YTD-2016</td>\n",
       "    </tr>\n",
       "  </tbody>\n",
       "</table>\n",
       "<p>5 rows × 32 columns</p>\n",
       "</div>"
      ],
      "text/plain": [
       "   Row ID        Order ID Order Date  Ship Date       Ship Mode Customer ID  \\\n",
       "0       1  CA-2017-152156 2017-11-08 2017-11-11    Second Class    CG-12520   \n",
       "1       2  CA-2017-152156 2017-11-08 2017-11-11    Second Class    CG-12520   \n",
       "2       3  CA-2017-138688 2017-06-12 2017-06-16    Second Class    DV-13045   \n",
       "3       4  US-2016-108966 2016-10-11 2016-10-18  Standard Class    SO-20335   \n",
       "4       5  US-2016-108966 2016-10-11 2016-10-18  Standard Class    SO-20335   \n",
       "\n",
       "     Customer Name    Segment        Country             City  \\\n",
       "0      Claire Gute   Consumer  United States        Henderson   \n",
       "1      Claire Gute   Consumer  United States        Henderson   \n",
       "2  Darrin Van Huff  Corporate  United States      Los Angeles   \n",
       "3   Sean O'Donnell   Consumer  United States  Fort Lauderdale   \n",
       "4   Sean O'Donnell   Consumer  United States  Fort Lauderdale   \n",
       "\n",
       "        ...        Order Year  Order quarter Order Month year_week year_month  \\\n",
       "0       ...              2017              4          11    201745     201711   \n",
       "1       ...              2017              4          11    201745     201711   \n",
       "2       ...              2017              2           6    201724      20176   \n",
       "3       ...              2016              4          10    201641     201610   \n",
       "4       ...              2016              4          10    201641     201610   \n",
       "\n",
       "  year_quarter Order Week Name  Order Month Name  Order quarter Name  \\\n",
       "0        20174      Wk-2017/45       Mth-2017/11          Qtr-2017/4   \n",
       "1        20174      Wk-2017/45       Mth-2017/11          Qtr-2017/4   \n",
       "2        20172      Wk-2017/24        Mth-2017/6          Qtr-2017/2   \n",
       "3        20164      Wk-2016/41       Mth-2016/10          Qtr-2016/4   \n",
       "4        20164      Wk-2016/41       Mth-2016/10          Qtr-2016/4   \n",
       "\n",
       "   Order year Name  \n",
       "0         YTD-2017  \n",
       "1         YTD-2017  \n",
       "2         YTD-2017  \n",
       "3         YTD-2016  \n",
       "4         YTD-2016  \n",
       "\n",
       "[5 rows x 32 columns]"
      ]
     },
     "execution_count": 432,
     "metadata": {},
     "output_type": "execute_result"
    }
   ],
   "source": [
    "df.head() # to check sample data set"
   ]
  },
  {
   "cell_type": "markdown",
   "metadata": {},
   "source": [
    "### Convert dates into date datetime datatype  from string datatype\n",
    "*Coverstion is required as we noticed in above step (df.dtypes)  that date columns are in string/object format , which will act as blocker for applying date functions on data set.*"
   ]
  },
  {
   "cell_type": "code",
   "execution_count": 381,
   "metadata": {},
   "outputs": [],
   "source": [
    "df['Ship Date'] = pd.to_datetime(df['Ship Date'])"
   ]
  },
  {
   "cell_type": "code",
   "execution_count": 382,
   "metadata": {},
   "outputs": [],
   "source": [
    "df['Order Date'] = pd.to_datetime(df['Order Date'])"
   ]
  },
  {
   "cell_type": "code",
   "execution_count": 383,
   "metadata": {},
   "outputs": [
    {
     "data": {
      "text/plain": [
       "Order Date    datetime64[ns]\n",
       "Ship Date     datetime64[ns]\n",
       "dtype: object"
      ]
     },
     "execution_count": 383,
     "metadata": {},
     "output_type": "execute_result"
    }
   ],
   "source": [
    "df[['Order Date','Ship Date']].dtypes "
   ]
  },
  {
   "cell_type": "code",
   "execution_count": 449,
   "metadata": {},
   "outputs": [
    {
     "data": {
      "text/plain": [
       "Timestamp('2018-12-30 00:00:00')"
      ]
     },
     "execution_count": 449,
     "metadata": {},
     "output_type": "execute_result"
    }
   ],
   "source": [
    "df['Order Date'].max() # Check max date in data set"
   ]
  },
  {
   "cell_type": "code",
   "execution_count": 451,
   "metadata": {},
   "outputs": [
    {
     "data": {
      "text/plain": [
       "Timestamp('2015-01-03 00:00:00')"
      ]
     },
     "execution_count": 451,
     "metadata": {},
     "output_type": "execute_result"
    }
   ],
   "source": [
    "df['Order Date'].min() # Check min date in data set"
   ]
  },
  {
   "cell_type": "markdown",
   "metadata": {},
   "source": [
    "### Create date attrributes from date \n",
    "*Below operations are performed to meet standard wbr format reports i.e in week , Month , Quarter and at YTD basis*"
   ]
  },
  {
   "cell_type": "code",
   "execution_count": 433,
   "metadata": {},
   "outputs": [],
   "source": [
    "df['Order Week']=df['Order Date'].dt.week #getting weeks from Order Date and adding it as a column in data frame."
   ]
  },
  {
   "cell_type": "code",
   "execution_count": 434,
   "metadata": {},
   "outputs": [],
   "source": [
    "df['Order Year']=df['Order Date'].dt.year #getting year from Order Date and adding it as a column in data frame."
   ]
  },
  {
   "cell_type": "code",
   "execution_count": 435,
   "metadata": {},
   "outputs": [],
   "source": [
    "df['Order quarter']=df['Order Date'].dt.quarter #getting quarter from Order Date and adding it as a column in data frame."
   ]
  },
  {
   "cell_type": "code",
   "execution_count": 436,
   "metadata": {},
   "outputs": [],
   "source": [
    "df['Order Month']=df['Order Date'].dt.month #getting month from Order Date and adding it as a column in data frame."
   ]
  },
  {
   "cell_type": "markdown",
   "metadata": {},
   "source": [
    "### Creating combined fields\n",
    "* WBR Dashboard in general contains view for last n weeks , n months , n quarters and YTD to get combined fields created will act as a base for applying rank function.\n",
    "* Also to avoid addition of two fields (Year and Week No.) during concatination it is converted into string and then moved back to int format."
   ]
  },
  {
   "cell_type": "code",
   "execution_count": 437,
   "metadata": {},
   "outputs": [],
   "source": [
    "df['year_week'] = (df['Order Year'].astype(str)+df['Order Week'].astype(str)).astype(int)"
   ]
  },
  {
   "cell_type": "code",
   "execution_count": 438,
   "metadata": {},
   "outputs": [],
   "source": [
    "df['year_month'] = (df['Order Year'].astype(str)+df['Order Month'].astype(str)).astype(int)"
   ]
  },
  {
   "cell_type": "code",
   "execution_count": 439,
   "metadata": {},
   "outputs": [],
   "source": [
    "df['year_quarter'] = (df['Order Year'].astype(str)+df['Order quarter'].astype(str)).astype(int)"
   ]
  },
  {
   "cell_type": "markdown",
   "metadata": {},
   "source": [
    "### Create Column headers for the view\n",
    "*Below operations are done for creating column names in final dashboard.*"
   ]
  },
  {
   "cell_type": "code",
   "execution_count": 440,
   "metadata": {},
   "outputs": [],
   "source": [
    "df['Order Week Name']= 'Wk-'+ df['Order Date'].dt.year.astype(str) + '/' + df['Order Date'].dt.week.astype(str)"
   ]
  },
  {
   "cell_type": "code",
   "execution_count": 441,
   "metadata": {},
   "outputs": [],
   "source": [
    "df['Order Month Name']='Mth-'+df['Order Date'].dt.year.astype(str) + '/' + df['Order Date'].dt.month.astype(str)"
   ]
  },
  {
   "cell_type": "code",
   "execution_count": 442,
   "metadata": {},
   "outputs": [],
   "source": [
    "df['Order quarter Name']='Qtr-'+df['Order Date'].dt.year.astype(str) + '/' + df['Order Date'].dt.quarter.astype(str)"
   ]
  },
  {
   "cell_type": "code",
   "execution_count": 443,
   "metadata": {},
   "outputs": [],
   "source": [
    "df['Order year Name']='YTD-'+df['Order Date'].dt.year.astype(str)"
   ]
  },
  {
   "cell_type": "code",
   "execution_count": 397,
   "metadata": {},
   "outputs": [
    {
     "data": {
      "text/html": [
       "<div>\n",
       "<style scoped>\n",
       "    .dataframe tbody tr th:only-of-type {\n",
       "        vertical-align: middle;\n",
       "    }\n",
       "\n",
       "    .dataframe tbody tr th {\n",
       "        vertical-align: top;\n",
       "    }\n",
       "\n",
       "    .dataframe thead th {\n",
       "        text-align: right;\n",
       "    }\n",
       "</style>\n",
       "<table border=\"1\" class=\"dataframe\">\n",
       "  <thead>\n",
       "    <tr style=\"text-align: right;\">\n",
       "      <th></th>\n",
       "      <th>Row ID</th>\n",
       "      <th>Order ID</th>\n",
       "      <th>Order Date</th>\n",
       "      <th>Ship Date</th>\n",
       "      <th>Ship Mode</th>\n",
       "      <th>Customer ID</th>\n",
       "      <th>Customer Name</th>\n",
       "      <th>Segment</th>\n",
       "      <th>Country</th>\n",
       "      <th>City</th>\n",
       "      <th>...</th>\n",
       "      <th>Order Year</th>\n",
       "      <th>Order quarter</th>\n",
       "      <th>Order Month</th>\n",
       "      <th>year_week</th>\n",
       "      <th>year_month</th>\n",
       "      <th>year_quarter</th>\n",
       "      <th>Order Week Name</th>\n",
       "      <th>Order Month Name</th>\n",
       "      <th>Order quarter Name</th>\n",
       "      <th>Order year Name</th>\n",
       "    </tr>\n",
       "  </thead>\n",
       "  <tbody>\n",
       "    <tr>\n",
       "      <th>0</th>\n",
       "      <td>1</td>\n",
       "      <td>CA-2017-152156</td>\n",
       "      <td>2017-11-08</td>\n",
       "      <td>2017-11-11</td>\n",
       "      <td>Second Class</td>\n",
       "      <td>CG-12520</td>\n",
       "      <td>Claire Gute</td>\n",
       "      <td>Consumer</td>\n",
       "      <td>United States</td>\n",
       "      <td>Henderson</td>\n",
       "      <td>...</td>\n",
       "      <td>2017</td>\n",
       "      <td>4</td>\n",
       "      <td>11</td>\n",
       "      <td>201745</td>\n",
       "      <td>201711</td>\n",
       "      <td>20174</td>\n",
       "      <td>Wk-2017/45</td>\n",
       "      <td>Mth-2017/11</td>\n",
       "      <td>Qtr-2017/4</td>\n",
       "      <td>YTD-2017</td>\n",
       "    </tr>\n",
       "    <tr>\n",
       "      <th>1</th>\n",
       "      <td>2</td>\n",
       "      <td>CA-2017-152156</td>\n",
       "      <td>2017-11-08</td>\n",
       "      <td>2017-11-11</td>\n",
       "      <td>Second Class</td>\n",
       "      <td>CG-12520</td>\n",
       "      <td>Claire Gute</td>\n",
       "      <td>Consumer</td>\n",
       "      <td>United States</td>\n",
       "      <td>Henderson</td>\n",
       "      <td>...</td>\n",
       "      <td>2017</td>\n",
       "      <td>4</td>\n",
       "      <td>11</td>\n",
       "      <td>201745</td>\n",
       "      <td>201711</td>\n",
       "      <td>20174</td>\n",
       "      <td>Wk-2017/45</td>\n",
       "      <td>Mth-2017/11</td>\n",
       "      <td>Qtr-2017/4</td>\n",
       "      <td>YTD-2017</td>\n",
       "    </tr>\n",
       "    <tr>\n",
       "      <th>2</th>\n",
       "      <td>3</td>\n",
       "      <td>CA-2017-138688</td>\n",
       "      <td>2017-06-12</td>\n",
       "      <td>2017-06-16</td>\n",
       "      <td>Second Class</td>\n",
       "      <td>DV-13045</td>\n",
       "      <td>Darrin Van Huff</td>\n",
       "      <td>Corporate</td>\n",
       "      <td>United States</td>\n",
       "      <td>Los Angeles</td>\n",
       "      <td>...</td>\n",
       "      <td>2017</td>\n",
       "      <td>2</td>\n",
       "      <td>6</td>\n",
       "      <td>201724</td>\n",
       "      <td>20176</td>\n",
       "      <td>20172</td>\n",
       "      <td>Wk-2017/24</td>\n",
       "      <td>Mth-2017/6</td>\n",
       "      <td>Qtr-2017/2</td>\n",
       "      <td>YTD-2017</td>\n",
       "    </tr>\n",
       "    <tr>\n",
       "      <th>3</th>\n",
       "      <td>4</td>\n",
       "      <td>US-2016-108966</td>\n",
       "      <td>2016-10-11</td>\n",
       "      <td>2016-10-18</td>\n",
       "      <td>Standard Class</td>\n",
       "      <td>SO-20335</td>\n",
       "      <td>Sean O'Donnell</td>\n",
       "      <td>Consumer</td>\n",
       "      <td>United States</td>\n",
       "      <td>Fort Lauderdale</td>\n",
       "      <td>...</td>\n",
       "      <td>2016</td>\n",
       "      <td>4</td>\n",
       "      <td>10</td>\n",
       "      <td>201641</td>\n",
       "      <td>201610</td>\n",
       "      <td>20164</td>\n",
       "      <td>Wk-2016/41</td>\n",
       "      <td>Mth-2016/10</td>\n",
       "      <td>Qtr-2016/4</td>\n",
       "      <td>YTD-2016</td>\n",
       "    </tr>\n",
       "    <tr>\n",
       "      <th>4</th>\n",
       "      <td>5</td>\n",
       "      <td>US-2016-108966</td>\n",
       "      <td>2016-10-11</td>\n",
       "      <td>2016-10-18</td>\n",
       "      <td>Standard Class</td>\n",
       "      <td>SO-20335</td>\n",
       "      <td>Sean O'Donnell</td>\n",
       "      <td>Consumer</td>\n",
       "      <td>United States</td>\n",
       "      <td>Fort Lauderdale</td>\n",
       "      <td>...</td>\n",
       "      <td>2016</td>\n",
       "      <td>4</td>\n",
       "      <td>10</td>\n",
       "      <td>201641</td>\n",
       "      <td>201610</td>\n",
       "      <td>20164</td>\n",
       "      <td>Wk-2016/41</td>\n",
       "      <td>Mth-2016/10</td>\n",
       "      <td>Qtr-2016/4</td>\n",
       "      <td>YTD-2016</td>\n",
       "    </tr>\n",
       "  </tbody>\n",
       "</table>\n",
       "<p>5 rows × 32 columns</p>\n",
       "</div>"
      ],
      "text/plain": [
       "   Row ID        Order ID Order Date  Ship Date       Ship Mode Customer ID  \\\n",
       "0       1  CA-2017-152156 2017-11-08 2017-11-11    Second Class    CG-12520   \n",
       "1       2  CA-2017-152156 2017-11-08 2017-11-11    Second Class    CG-12520   \n",
       "2       3  CA-2017-138688 2017-06-12 2017-06-16    Second Class    DV-13045   \n",
       "3       4  US-2016-108966 2016-10-11 2016-10-18  Standard Class    SO-20335   \n",
       "4       5  US-2016-108966 2016-10-11 2016-10-18  Standard Class    SO-20335   \n",
       "\n",
       "     Customer Name    Segment        Country             City  \\\n",
       "0      Claire Gute   Consumer  United States        Henderson   \n",
       "1      Claire Gute   Consumer  United States        Henderson   \n",
       "2  Darrin Van Huff  Corporate  United States      Los Angeles   \n",
       "3   Sean O'Donnell   Consumer  United States  Fort Lauderdale   \n",
       "4   Sean O'Donnell   Consumer  United States  Fort Lauderdale   \n",
       "\n",
       "        ...        Order Year  Order quarter Order Month year_week year_month  \\\n",
       "0       ...              2017              4          11    201745     201711   \n",
       "1       ...              2017              4          11    201745     201711   \n",
       "2       ...              2017              2           6    201724      20176   \n",
       "3       ...              2016              4          10    201641     201610   \n",
       "4       ...              2016              4          10    201641     201610   \n",
       "\n",
       "  year_quarter Order Week Name  Order Month Name  Order quarter Name  \\\n",
       "0        20174      Wk-2017/45       Mth-2017/11          Qtr-2017/4   \n",
       "1        20174      Wk-2017/45       Mth-2017/11          Qtr-2017/4   \n",
       "2        20172      Wk-2017/24        Mth-2017/6          Qtr-2017/2   \n",
       "3        20164      Wk-2016/41       Mth-2016/10          Qtr-2016/4   \n",
       "4        20164      Wk-2016/41       Mth-2016/10          Qtr-2016/4   \n",
       "\n",
       "   Order year Name  \n",
       "0         YTD-2017  \n",
       "1         YTD-2017  \n",
       "2         YTD-2017  \n",
       "3         YTD-2016  \n",
       "4         YTD-2016  \n",
       "\n",
       "[5 rows x 32 columns]"
      ]
     },
     "execution_count": 397,
     "metadata": {},
     "output_type": "execute_result"
    }
   ],
   "source": [
    "df.head()"
   ]
  },
  {
   "cell_type": "markdown",
   "metadata": {},
   "source": [
    "### Create seperate data frame for each timframe  \n",
    "*Now that we have all attributes required for date field , next step is to create independt dataframes for each time frame.Nevertheless this could have been done on actual dataset but creating independt data frames will help in avoid complications  on group by and each data frame can be checked seperately incase of any error.*"
   ]
  },
  {
   "cell_type": "code",
   "execution_count": 398,
   "metadata": {},
   "outputs": [],
   "source": [
    "wk_category = pd.DataFrame(df.groupby(['Order Week Name','year_week','Category','Sub-Category']).Sales.sum()).sort_values('year_week' ,ascending=False )"
   ]
  },
  {
   "cell_type": "code",
   "execution_count": 399,
   "metadata": {},
   "outputs": [],
   "source": [
    "mth_category = pd.DataFrame(df.groupby(['Order Month Name','year_month','Category','Sub-Category']).Sales.sum()).sort_values('year_month' ,ascending=False )"
   ]
  },
  {
   "cell_type": "code",
   "execution_count": 400,
   "metadata": {},
   "outputs": [],
   "source": [
    "qtr_category = pd.DataFrame(df.groupby(['Order quarter Name','year_quarter','Category','Sub-Category']).Sales.sum()).sort_values('year_quarter' ,ascending=False )"
   ]
  },
  {
   "cell_type": "code",
   "execution_count": 403,
   "metadata": {},
   "outputs": [],
   "source": [
    "ytd_category = pd.DataFrame(df.groupby(['Order year Name','Order Year','Category','Sub-Category']).Sales.sum()).sort_values('Order Year' ,ascending=False )\n"
   ]
  },
  {
   "cell_type": "markdown",
   "metadata": {},
   "source": [
    "### Resetting the Index"
   ]
  },
  {
   "cell_type": "code",
   "execution_count": 404,
   "metadata": {},
   "outputs": [],
   "source": [
    "wk_category.reset_index(inplace = True)"
   ]
  },
  {
   "cell_type": "code",
   "execution_count": 405,
   "metadata": {},
   "outputs": [],
   "source": [
    "mth_category.reset_index(inplace = True)"
   ]
  },
  {
   "cell_type": "code",
   "execution_count": 406,
   "metadata": {},
   "outputs": [],
   "source": [
    "qtr_category.reset_index(inplace = True)"
   ]
  },
  {
   "cell_type": "code",
   "execution_count": 407,
   "metadata": {},
   "outputs": [],
   "source": [
    "ytd_category.reset_index(inplace = True)"
   ]
  },
  {
   "cell_type": "code",
   "execution_count": 408,
   "metadata": {},
   "outputs": [
    {
     "data": {
      "text/html": [
       "<div>\n",
       "<style scoped>\n",
       "    .dataframe tbody tr th:only-of-type {\n",
       "        vertical-align: middle;\n",
       "    }\n",
       "\n",
       "    .dataframe tbody tr th {\n",
       "        vertical-align: top;\n",
       "    }\n",
       "\n",
       "    .dataframe thead th {\n",
       "        text-align: right;\n",
       "    }\n",
       "</style>\n",
       "<table border=\"1\" class=\"dataframe\">\n",
       "  <thead>\n",
       "    <tr style=\"text-align: right;\">\n",
       "      <th></th>\n",
       "      <th>Order year Name</th>\n",
       "      <th>Order Year</th>\n",
       "      <th>Category</th>\n",
       "      <th>Sub-Category</th>\n",
       "      <th>Sales</th>\n",
       "    </tr>\n",
       "  </thead>\n",
       "  <tbody>\n",
       "    <tr>\n",
       "      <th>0</th>\n",
       "      <td>YTD-2018</td>\n",
       "      <td>2018</td>\n",
       "      <td>Technology</td>\n",
       "      <td>Phones</td>\n",
       "      <td>105340.5160</td>\n",
       "    </tr>\n",
       "    <tr>\n",
       "      <th>1</th>\n",
       "      <td>YTD-2018</td>\n",
       "      <td>2018</td>\n",
       "      <td>Office Supplies</td>\n",
       "      <td>Fasteners</td>\n",
       "      <td>857.5940</td>\n",
       "    </tr>\n",
       "    <tr>\n",
       "      <th>2</th>\n",
       "      <td>YTD-2018</td>\n",
       "      <td>2018</td>\n",
       "      <td>Furniture</td>\n",
       "      <td>Bookcases</td>\n",
       "      <td>30024.2797</td>\n",
       "    </tr>\n",
       "    <tr>\n",
       "      <th>3</th>\n",
       "      <td>YTD-2018</td>\n",
       "      <td>2018</td>\n",
       "      <td>Furniture</td>\n",
       "      <td>Furnishings</td>\n",
       "      <td>28915.0940</td>\n",
       "    </tr>\n",
       "    <tr>\n",
       "      <th>4</th>\n",
       "      <td>YTD-2018</td>\n",
       "      <td>2018</td>\n",
       "      <td>Furniture</td>\n",
       "      <td>Tables</td>\n",
       "      <td>60893.5425</td>\n",
       "    </tr>\n",
       "  </tbody>\n",
       "</table>\n",
       "</div>"
      ],
      "text/plain": [
       "  Order year Name  Order Year         Category Sub-Category        Sales\n",
       "0        YTD-2018        2018       Technology       Phones  105340.5160\n",
       "1        YTD-2018        2018  Office Supplies    Fasteners     857.5940\n",
       "2        YTD-2018        2018        Furniture    Bookcases   30024.2797\n",
       "3        YTD-2018        2018        Furniture  Furnishings   28915.0940\n",
       "4        YTD-2018        2018        Furniture       Tables   60893.5425"
      ]
     },
     "execution_count": 408,
     "metadata": {},
     "output_type": "execute_result"
    }
   ],
   "source": [
    "ytd_category.head()"
   ]
  },
  {
   "cell_type": "markdown",
   "metadata": {},
   "source": [
    "### Create Rolling Fields\n",
    "* Rolling  are created based on combined fileds which are created above for each time frame.\n",
    "* Rolling fields are created for filtering the data based on x range for each time frame.\n"
   ]
  },
  {
   "cell_type": "code",
   "execution_count": 444,
   "metadata": {},
   "outputs": [],
   "source": [
    "wk_category['rolling_week']=wk_category['year_week'].rank(method='dense',ascending=False).astype(int)"
   ]
  },
  {
   "cell_type": "code",
   "execution_count": 445,
   "metadata": {},
   "outputs": [],
   "source": [
    "mth_category['rolling_month']=mth_category['year_month'].rank(method='dense',ascending=False).astype(int)"
   ]
  },
  {
   "cell_type": "code",
   "execution_count": 446,
   "metadata": {},
   "outputs": [],
   "source": [
    "qtr_category['rolling_quarter']=qtr_category['year_quarter'].rank(method='dense',ascending=False).astype(int)"
   ]
  },
  {
   "cell_type": "code",
   "execution_count": 447,
   "metadata": {},
   "outputs": [],
   "source": [
    "ytd_category['rolling_year']=ytd_category['Order Year'].rank(method='dense',ascending=False).astype(int)"
   ]
  },
  {
   "cell_type": "markdown",
   "metadata": {},
   "source": [
    "### Filter Data based on Rolling Fields"
   ]
  },
  {
   "cell_type": "code",
   "execution_count": 413,
   "metadata": {},
   "outputs": [],
   "source": [
    "wk_deck = wk_category[wk_category['rolling_week'] <= 6]"
   ]
  },
  {
   "cell_type": "code",
   "execution_count": 414,
   "metadata": {},
   "outputs": [],
   "source": [
    "mth_deck = mth_category[mth_category['rolling_month'] <= 6]"
   ]
  },
  {
   "cell_type": "code",
   "execution_count": 415,
   "metadata": {},
   "outputs": [],
   "source": [
    "qtr_deck = qtr_category[qtr_category['rolling_quarter'] <= 4]"
   ]
  },
  {
   "cell_type": "code",
   "execution_count": 416,
   "metadata": {},
   "outputs": [],
   "source": [
    "ytd_deck=ytd_category[ytd_category['rolling_year'] == 1]"
   ]
  },
  {
   "cell_type": "markdown",
   "metadata": {},
   "source": [
    "### Pivoting DataFrame\n",
    "* Pivot is done on each dataframe created based on date attributes to get view in statndard WBR form i.e date range  on top and dimensions on left.\n",
    "* For below operations in index  two columns are taken (Category & Sub-Category) as index to get data at that granuality."
   ]
  },
  {
   "cell_type": "code",
   "execution_count": 417,
   "metadata": {},
   "outputs": [],
   "source": [
    "week_data=wk_deck.pivot_table(index=['Category','Sub-Category'], columns='Order Week Name', values='Sales')"
   ]
  },
  {
   "cell_type": "code",
   "execution_count": 418,
   "metadata": {},
   "outputs": [],
   "source": [
    "month_data=mth_deck.pivot_table(index=['Category','Sub-Category'], columns='Order Month Name', values='Sales')"
   ]
  },
  {
   "cell_type": "code",
   "execution_count": 419,
   "metadata": {},
   "outputs": [],
   "source": [
    "quarter_data=qtr_deck.pivot_table(index=['Category','Sub-Category'], columns='Order quarter Name', values='Sales')"
   ]
  },
  {
   "cell_type": "code",
   "execution_count": 420,
   "metadata": {},
   "outputs": [],
   "source": [
    "ytd_data=ytd_deck.pivot_table(index=['Category','Sub-Category'], columns='Order year Name', values='Sales')"
   ]
  },
  {
   "cell_type": "markdown",
   "metadata": {},
   "source": [
    "### Adding all data frames as list"
   ]
  },
  {
   "cell_type": "code",
   "execution_count": 421,
   "metadata": {},
   "outputs": [],
   "source": [
    "dashboard = [week_data, month_data, quarter_data , ytd_data]"
   ]
  },
  {
   "cell_type": "markdown",
   "metadata": {},
   "source": [
    "### Joining all DataFrames\n",
    "*All data frames are joined(outer) together to create a one single view.*"
   ]
  },
  {
   "cell_type": "code",
   "execution_count": 422,
   "metadata": {},
   "outputs": [],
   "source": [
    "final_dashboard = reduce(lambda  left,right: pd.merge(left,right,on=['Category','Sub-Category'],\n",
    "                                            how='outer'), dashboard)"
   ]
  },
  {
   "cell_type": "code",
   "execution_count": 423,
   "metadata": {},
   "outputs": [
    {
     "data": {
      "text/html": [
       "<div>\n",
       "<style scoped>\n",
       "    .dataframe tbody tr th:only-of-type {\n",
       "        vertical-align: middle;\n",
       "    }\n",
       "\n",
       "    .dataframe tbody tr th {\n",
       "        vertical-align: top;\n",
       "    }\n",
       "\n",
       "    .dataframe thead th {\n",
       "        text-align: right;\n",
       "    }\n",
       "</style>\n",
       "<table border=\"1\" class=\"dataframe\">\n",
       "  <thead>\n",
       "    <tr style=\"text-align: right;\">\n",
       "      <th></th>\n",
       "      <th></th>\n",
       "      <th>Wk-2018/47</th>\n",
       "      <th>Wk-2018/48</th>\n",
       "      <th>Wk-2018/49</th>\n",
       "      <th>Wk-2018/50</th>\n",
       "      <th>Wk-2018/51</th>\n",
       "      <th>Wk-2018/52</th>\n",
       "      <th>Mth-2017/10</th>\n",
       "      <th>Mth-2017/11</th>\n",
       "      <th>Mth-2017/12</th>\n",
       "      <th>Mth-2018/10</th>\n",
       "      <th>Mth-2018/11</th>\n",
       "      <th>Mth-2018/12</th>\n",
       "      <th>Qtr-2018/1</th>\n",
       "      <th>Qtr-2018/2</th>\n",
       "      <th>Qtr-2018/3</th>\n",
       "      <th>Qtr-2018/4</th>\n",
       "      <th>YTD-2018</th>\n",
       "    </tr>\n",
       "    <tr>\n",
       "      <th>Category</th>\n",
       "      <th>Sub-Category</th>\n",
       "      <th></th>\n",
       "      <th></th>\n",
       "      <th></th>\n",
       "      <th></th>\n",
       "      <th></th>\n",
       "      <th></th>\n",
       "      <th></th>\n",
       "      <th></th>\n",
       "      <th></th>\n",
       "      <th></th>\n",
       "      <th></th>\n",
       "      <th></th>\n",
       "      <th></th>\n",
       "      <th></th>\n",
       "      <th></th>\n",
       "      <th></th>\n",
       "      <th></th>\n",
       "    </tr>\n",
       "  </thead>\n",
       "  <tbody>\n",
       "    <tr>\n",
       "      <th rowspan=\"4\" valign=\"top\">Furniture</th>\n",
       "      <th>Bookcases</th>\n",
       "      <td>1588.955</td>\n",
       "      <td>384.312</td>\n",
       "      <td>1945.006</td>\n",
       "      <td>287.976</td>\n",
       "      <td>442.831</td>\n",
       "      <td>593.9728</td>\n",
       "      <td>1376.448</td>\n",
       "      <td>5797.2748</td>\n",
       "      <td>1616.702</td>\n",
       "      <td>4079.7262</td>\n",
       "      <td>2122.687</td>\n",
       "      <td>3654.0978</td>\n",
       "      <td>3351.8362</td>\n",
       "      <td>11019.7095</td>\n",
       "      <td>5796.223</td>\n",
       "      <td>9856.511</td>\n",
       "      <td>30024.2797</td>\n",
       "    </tr>\n",
       "    <tr>\n",
       "      <th>Chairs</th>\n",
       "      <td>3756.098</td>\n",
       "      <td>7922.060</td>\n",
       "      <td>2115.724</td>\n",
       "      <td>827.686</td>\n",
       "      <td>3375.488</td>\n",
       "      <td>4266.6840</td>\n",
       "      <td>5910.879</td>\n",
       "      <td>13173.0830</td>\n",
       "      <td>14950.632</td>\n",
       "      <td>4669.4340</td>\n",
       "      <td>14561.218</td>\n",
       "      <td>14966.4580</td>\n",
       "      <td>11325.4970</td>\n",
       "      <td>19731.3150</td>\n",
       "      <td>30300.431</td>\n",
       "      <td>34197.110</td>\n",
       "      <td>95554.3530</td>\n",
       "    </tr>\n",
       "    <tr>\n",
       "      <th>Furnishings</th>\n",
       "      <td>1146.310</td>\n",
       "      <td>4380.618</td>\n",
       "      <td>800.938</td>\n",
       "      <td>1104.116</td>\n",
       "      <td>554.664</td>\n",
       "      <td>297.3420</td>\n",
       "      <td>2484.482</td>\n",
       "      <td>4034.7780</td>\n",
       "      <td>5548.522</td>\n",
       "      <td>1724.1320</td>\n",
       "      <td>6714.122</td>\n",
       "      <td>4061.6680</td>\n",
       "      <td>2759.1000</td>\n",
       "      <td>5866.7780</td>\n",
       "      <td>7789.294</td>\n",
       "      <td>12499.922</td>\n",
       "      <td>28915.0940</td>\n",
       "    </tr>\n",
       "    <tr>\n",
       "      <th>Tables</th>\n",
       "      <td>1651.098</td>\n",
       "      <td>4104.942</td>\n",
       "      <td>2422.312</td>\n",
       "      <td>3893.045</td>\n",
       "      <td>2136.826</td>\n",
       "      <td>273.0600</td>\n",
       "      <td>2100.768</td>\n",
       "      <td>8778.4930</td>\n",
       "      <td>14562.859</td>\n",
       "      <td>11410.7760</td>\n",
       "      <td>13658.688</td>\n",
       "      <td>8725.2430</td>\n",
       "      <td>6287.3810</td>\n",
       "      <td>8414.3005</td>\n",
       "      <td>12397.154</td>\n",
       "      <td>33794.707</td>\n",
       "      <td>60893.5425</td>\n",
       "    </tr>\n",
       "    <tr>\n",
       "      <th rowspan=\"9\" valign=\"top\">Office Supplies</th>\n",
       "      <th>Appliances</th>\n",
       "      <td>2594.962</td>\n",
       "      <td>1723.760</td>\n",
       "      <td>2245.326</td>\n",
       "      <td>505.252</td>\n",
       "      <td>2828.938</td>\n",
       "      <td>245.2100</td>\n",
       "      <td>2956.470</td>\n",
       "      <td>2978.0640</td>\n",
       "      <td>4752.051</td>\n",
       "      <td>3335.5280</td>\n",
       "      <td>6746.070</td>\n",
       "      <td>6516.8280</td>\n",
       "      <td>8543.0960</td>\n",
       "      <td>6382.6020</td>\n",
       "      <td>11402.808</td>\n",
       "      <td>16598.426</td>\n",
       "      <td>42926.9320</td>\n",
       "    </tr>\n",
       "    <tr>\n",
       "      <th>Art</th>\n",
       "      <td>434.902</td>\n",
       "      <td>523.424</td>\n",
       "      <td>97.268</td>\n",
       "      <td>167.198</td>\n",
       "      <td>151.338</td>\n",
       "      <td>109.2200</td>\n",
       "      <td>454.042</td>\n",
       "      <td>926.7220</td>\n",
       "      <td>396.282</td>\n",
       "      <td>642.2380</td>\n",
       "      <td>1387.042</td>\n",
       "      <td>862.2780</td>\n",
       "      <td>1123.7460</td>\n",
       "      <td>2277.3920</td>\n",
       "      <td>2570.372</td>\n",
       "      <td>2891.558</td>\n",
       "      <td>8863.0680</td>\n",
       "    </tr>\n",
       "    <tr>\n",
       "      <th>Binders</th>\n",
       "      <td>2665.966</td>\n",
       "      <td>1852.308</td>\n",
       "      <td>2652.507</td>\n",
       "      <td>1128.449</td>\n",
       "      <td>245.471</td>\n",
       "      <td>575.6030</td>\n",
       "      <td>6694.876</td>\n",
       "      <td>4929.3980</td>\n",
       "      <td>17225.247</td>\n",
       "      <td>10139.3180</td>\n",
       "      <td>6490.565</td>\n",
       "      <td>5536.1020</td>\n",
       "      <td>12849.0330</td>\n",
       "      <td>10271.1800</td>\n",
       "      <td>27501.847</td>\n",
       "      <td>22165.985</td>\n",
       "      <td>72788.0450</td>\n",
       "    </tr>\n",
       "    <tr>\n",
       "      <th>Envelopes</th>\n",
       "      <td>249.548</td>\n",
       "      <td>184.640</td>\n",
       "      <td>57.576</td>\n",
       "      <td>61.840</td>\n",
       "      <td>190.764</td>\n",
       "      <td>NaN</td>\n",
       "      <td>176.948</td>\n",
       "      <td>807.5600</td>\n",
       "      <td>659.932</td>\n",
       "      <td>429.8520</td>\n",
       "      <td>518.632</td>\n",
       "      <td>414.8600</td>\n",
       "      <td>848.1320</td>\n",
       "      <td>578.3980</td>\n",
       "      <td>588.700</td>\n",
       "      <td>1363.344</td>\n",
       "      <td>3378.5740</td>\n",
       "    </tr>\n",
       "    <tr>\n",
       "      <th>Fasteners</th>\n",
       "      <td>44.904</td>\n",
       "      <td>54.658</td>\n",
       "      <td>3.552</td>\n",
       "      <td>23.820</td>\n",
       "      <td>4.824</td>\n",
       "      <td>85.5460</td>\n",
       "      <td>183.968</td>\n",
       "      <td>192.4080</td>\n",
       "      <td>96.314</td>\n",
       "      <td>72.3560</td>\n",
       "      <td>138.212</td>\n",
       "      <td>170.0320</td>\n",
       "      <td>136.5960</td>\n",
       "      <td>100.1780</td>\n",
       "      <td>240.220</td>\n",
       "      <td>380.600</td>\n",
       "      <td>857.5940</td>\n",
       "    </tr>\n",
       "    <tr>\n",
       "      <th>Labels</th>\n",
       "      <td>11.520</td>\n",
       "      <td>78.586</td>\n",
       "      <td>118.840</td>\n",
       "      <td>53.040</td>\n",
       "      <td>18.450</td>\n",
       "      <td>72.4500</td>\n",
       "      <td>145.752</td>\n",
       "      <td>910.6920</td>\n",
       "      <td>239.792</td>\n",
       "      <td>392.8500</td>\n",
       "      <td>207.928</td>\n",
       "      <td>278.7160</td>\n",
       "      <td>277.3600</td>\n",
       "      <td>760.2240</td>\n",
       "      <td>1944.138</td>\n",
       "      <td>879.494</td>\n",
       "      <td>3861.2160</td>\n",
       "    </tr>\n",
       "    <tr>\n",
       "      <th>Paper</th>\n",
       "      <td>601.698</td>\n",
       "      <td>778.862</td>\n",
       "      <td>1469.040</td>\n",
       "      <td>139.666</td>\n",
       "      <td>1016.254</td>\n",
       "      <td>1019.3820</td>\n",
       "      <td>1501.190</td>\n",
       "      <td>2328.7760</td>\n",
       "      <td>2326.810</td>\n",
       "      <td>1846.6300</td>\n",
       "      <td>3620.614</td>\n",
       "      <td>3890.7100</td>\n",
       "      <td>4729.9320</td>\n",
       "      <td>5561.9900</td>\n",
       "      <td>8044.842</td>\n",
       "      <td>9357.954</td>\n",
       "      <td>27694.7180</td>\n",
       "    </tr>\n",
       "    <tr>\n",
       "      <th>Storage</th>\n",
       "      <td>2806.278</td>\n",
       "      <td>2176.850</td>\n",
       "      <td>1121.986</td>\n",
       "      <td>589.090</td>\n",
       "      <td>3545.948</td>\n",
       "      <td>3294.0540</td>\n",
       "      <td>4039.972</td>\n",
       "      <td>7057.6320</td>\n",
       "      <td>10590.618</td>\n",
       "      <td>6104.2880</td>\n",
       "      <td>11911.276</td>\n",
       "      <td>10201.0780</td>\n",
       "      <td>8668.2700</td>\n",
       "      <td>18411.8440</td>\n",
       "      <td>14380.862</td>\n",
       "      <td>28216.642</td>\n",
       "      <td>69677.6180</td>\n",
       "    </tr>\n",
       "    <tr>\n",
       "      <th>Supplies</th>\n",
       "      <td>11.032</td>\n",
       "      <td>4.360</td>\n",
       "      <td>47.320</td>\n",
       "      <td>25.710</td>\n",
       "      <td>2444.260</td>\n",
       "      <td>44.6880</td>\n",
       "      <td>128.576</td>\n",
       "      <td>356.0260</td>\n",
       "      <td>1710.520</td>\n",
       "      <td>74.1320</td>\n",
       "      <td>451.998</td>\n",
       "      <td>2566.3380</td>\n",
       "      <td>6056.1820</td>\n",
       "      <td>1377.3860</td>\n",
       "      <td>5523.374</td>\n",
       "      <td>3092.468</td>\n",
       "      <td>16049.4100</td>\n",
       "    </tr>\n",
       "    <tr>\n",
       "      <th rowspan=\"4\" valign=\"top\">Technology</th>\n",
       "      <th>Accessories</th>\n",
       "      <td>300.662</td>\n",
       "      <td>848.252</td>\n",
       "      <td>2119.592</td>\n",
       "      <td>1631.232</td>\n",
       "      <td>1027.074</td>\n",
       "      <td>190.7280</td>\n",
       "      <td>3503.112</td>\n",
       "      <td>8081.3760</td>\n",
       "      <td>5752.470</td>\n",
       "      <td>5032.0620</td>\n",
       "      <td>8390.320</td>\n",
       "      <td>4988.9960</td>\n",
       "      <td>8515.3520</td>\n",
       "      <td>10741.8660</td>\n",
       "      <td>22277.636</td>\n",
       "      <td>18411.378</td>\n",
       "      <td>59946.2320</td>\n",
       "    </tr>\n",
       "    <tr>\n",
       "      <th>Copiers</th>\n",
       "      <td>NaN</td>\n",
       "      <td>NaN</td>\n",
       "      <td>2599.956</td>\n",
       "      <td>1199.980</td>\n",
       "      <td>NaN</td>\n",
       "      <td>2879.9520</td>\n",
       "      <td>22899.860</td>\n",
       "      <td>1199.9760</td>\n",
       "      <td>2479.944</td>\n",
       "      <td>11199.9680</td>\n",
       "      <td>12359.936</td>\n",
       "      <td>6679.8880</td>\n",
       "      <td>24319.7720</td>\n",
       "      <td>3359.9520</td>\n",
       "      <td>4979.872</td>\n",
       "      <td>30239.792</td>\n",
       "      <td>62899.3880</td>\n",
       "    </tr>\n",
       "    <tr>\n",
       "      <th>Machines</th>\n",
       "      <td>1039.992</td>\n",
       "      <td>NaN</td>\n",
       "      <td>649.000</td>\n",
       "      <td>NaN</td>\n",
       "      <td>NaN</td>\n",
       "      <td>599.9700</td>\n",
       "      <td>1541.310</td>\n",
       "      <td>8756.6410</td>\n",
       "      <td>281.530</td>\n",
       "      <td>7873.9950</td>\n",
       "      <td>11761.377</td>\n",
       "      <td>1248.9700</td>\n",
       "      <td>5089.3450</td>\n",
       "      <td>11562.1290</td>\n",
       "      <td>6008.859</td>\n",
       "      <td>20884.342</td>\n",
       "      <td>43544.6750</td>\n",
       "    </tr>\n",
       "    <tr>\n",
       "      <th>Phones</th>\n",
       "      <td>3532.424</td>\n",
       "      <td>10981.268</td>\n",
       "      <td>1071.298</td>\n",
       "      <td>703.664</td>\n",
       "      <td>1473.938</td>\n",
       "      <td>663.0240</td>\n",
       "      <td>3589.092</td>\n",
       "      <td>9103.0660</td>\n",
       "      <td>13808.818</td>\n",
       "      <td>8749.6380</td>\n",
       "      <td>17407.140</td>\n",
       "      <td>9067.0560</td>\n",
       "      <td>18264.2300</td>\n",
       "      <td>17347.1280</td>\n",
       "      <td>34505.324</td>\n",
       "      <td>35223.834</td>\n",
       "      <td>105340.5160</td>\n",
       "    </tr>\n",
       "  </tbody>\n",
       "</table>\n",
       "</div>"
      ],
      "text/plain": [
       "                              Wk-2018/47  Wk-2018/48  Wk-2018/49  Wk-2018/50  \\\n",
       "Category        Sub-Category                                                   \n",
       "Furniture       Bookcases       1588.955     384.312    1945.006     287.976   \n",
       "                Chairs          3756.098    7922.060    2115.724     827.686   \n",
       "                Furnishings     1146.310    4380.618     800.938    1104.116   \n",
       "                Tables          1651.098    4104.942    2422.312    3893.045   \n",
       "Office Supplies Appliances      2594.962    1723.760    2245.326     505.252   \n",
       "                Art              434.902     523.424      97.268     167.198   \n",
       "                Binders         2665.966    1852.308    2652.507    1128.449   \n",
       "                Envelopes        249.548     184.640      57.576      61.840   \n",
       "                Fasteners         44.904      54.658       3.552      23.820   \n",
       "                Labels            11.520      78.586     118.840      53.040   \n",
       "                Paper            601.698     778.862    1469.040     139.666   \n",
       "                Storage         2806.278    2176.850    1121.986     589.090   \n",
       "                Supplies          11.032       4.360      47.320      25.710   \n",
       "Technology      Accessories      300.662     848.252    2119.592    1631.232   \n",
       "                Copiers              NaN         NaN    2599.956    1199.980   \n",
       "                Machines        1039.992         NaN     649.000         NaN   \n",
       "                Phones          3532.424   10981.268    1071.298     703.664   \n",
       "\n",
       "                              Wk-2018/51  Wk-2018/52  Mth-2017/10  \\\n",
       "Category        Sub-Category                                        \n",
       "Furniture       Bookcases        442.831    593.9728     1376.448   \n",
       "                Chairs          3375.488   4266.6840     5910.879   \n",
       "                Furnishings      554.664    297.3420     2484.482   \n",
       "                Tables          2136.826    273.0600     2100.768   \n",
       "Office Supplies Appliances      2828.938    245.2100     2956.470   \n",
       "                Art              151.338    109.2200      454.042   \n",
       "                Binders          245.471    575.6030     6694.876   \n",
       "                Envelopes        190.764         NaN      176.948   \n",
       "                Fasteners          4.824     85.5460      183.968   \n",
       "                Labels            18.450     72.4500      145.752   \n",
       "                Paper           1016.254   1019.3820     1501.190   \n",
       "                Storage         3545.948   3294.0540     4039.972   \n",
       "                Supplies        2444.260     44.6880      128.576   \n",
       "Technology      Accessories     1027.074    190.7280     3503.112   \n",
       "                Copiers              NaN   2879.9520    22899.860   \n",
       "                Machines             NaN    599.9700     1541.310   \n",
       "                Phones          1473.938    663.0240     3589.092   \n",
       "\n",
       "                              Mth-2017/11  Mth-2017/12  Mth-2018/10  \\\n",
       "Category        Sub-Category                                          \n",
       "Furniture       Bookcases       5797.2748     1616.702    4079.7262   \n",
       "                Chairs         13173.0830    14950.632    4669.4340   \n",
       "                Furnishings     4034.7780     5548.522    1724.1320   \n",
       "                Tables          8778.4930    14562.859   11410.7760   \n",
       "Office Supplies Appliances      2978.0640     4752.051    3335.5280   \n",
       "                Art              926.7220      396.282     642.2380   \n",
       "                Binders         4929.3980    17225.247   10139.3180   \n",
       "                Envelopes        807.5600      659.932     429.8520   \n",
       "                Fasteners        192.4080       96.314      72.3560   \n",
       "                Labels           910.6920      239.792     392.8500   \n",
       "                Paper           2328.7760     2326.810    1846.6300   \n",
       "                Storage         7057.6320    10590.618    6104.2880   \n",
       "                Supplies         356.0260     1710.520      74.1320   \n",
       "Technology      Accessories     8081.3760     5752.470    5032.0620   \n",
       "                Copiers         1199.9760     2479.944   11199.9680   \n",
       "                Machines        8756.6410      281.530    7873.9950   \n",
       "                Phones          9103.0660    13808.818    8749.6380   \n",
       "\n",
       "                              Mth-2018/11  Mth-2018/12  Qtr-2018/1  \\\n",
       "Category        Sub-Category                                         \n",
       "Furniture       Bookcases        2122.687    3654.0978   3351.8362   \n",
       "                Chairs          14561.218   14966.4580  11325.4970   \n",
       "                Furnishings      6714.122    4061.6680   2759.1000   \n",
       "                Tables          13658.688    8725.2430   6287.3810   \n",
       "Office Supplies Appliances       6746.070    6516.8280   8543.0960   \n",
       "                Art              1387.042     862.2780   1123.7460   \n",
       "                Binders          6490.565    5536.1020  12849.0330   \n",
       "                Envelopes         518.632     414.8600    848.1320   \n",
       "                Fasteners         138.212     170.0320    136.5960   \n",
       "                Labels            207.928     278.7160    277.3600   \n",
       "                Paper            3620.614    3890.7100   4729.9320   \n",
       "                Storage         11911.276   10201.0780   8668.2700   \n",
       "                Supplies          451.998    2566.3380   6056.1820   \n",
       "Technology      Accessories      8390.320    4988.9960   8515.3520   \n",
       "                Copiers         12359.936    6679.8880  24319.7720   \n",
       "                Machines        11761.377    1248.9700   5089.3450   \n",
       "                Phones          17407.140    9067.0560  18264.2300   \n",
       "\n",
       "                              Qtr-2018/2  Qtr-2018/3  Qtr-2018/4     YTD-2018  \n",
       "Category        Sub-Category                                                   \n",
       "Furniture       Bookcases     11019.7095    5796.223    9856.511   30024.2797  \n",
       "                Chairs        19731.3150   30300.431   34197.110   95554.3530  \n",
       "                Furnishings    5866.7780    7789.294   12499.922   28915.0940  \n",
       "                Tables         8414.3005   12397.154   33794.707   60893.5425  \n",
       "Office Supplies Appliances     6382.6020   11402.808   16598.426   42926.9320  \n",
       "                Art            2277.3920    2570.372    2891.558    8863.0680  \n",
       "                Binders       10271.1800   27501.847   22165.985   72788.0450  \n",
       "                Envelopes       578.3980     588.700    1363.344    3378.5740  \n",
       "                Fasteners       100.1780     240.220     380.600     857.5940  \n",
       "                Labels          760.2240    1944.138     879.494    3861.2160  \n",
       "                Paper          5561.9900    8044.842    9357.954   27694.7180  \n",
       "                Storage       18411.8440   14380.862   28216.642   69677.6180  \n",
       "                Supplies       1377.3860    5523.374    3092.468   16049.4100  \n",
       "Technology      Accessories   10741.8660   22277.636   18411.378   59946.2320  \n",
       "                Copiers        3359.9520    4979.872   30239.792   62899.3880  \n",
       "                Machines      11562.1290    6008.859   20884.342   43544.6750  \n",
       "                Phones        17347.1280   34505.324   35223.834  105340.5160  "
      ]
     },
     "execution_count": 423,
     "metadata": {},
     "output_type": "execute_result"
    }
   ],
   "source": [
    "final_dashboard"
   ]
  },
  {
   "cell_type": "markdown",
   "metadata": {},
   "source": [
    "###### Testing the output"
   ]
  },
  {
   "cell_type": "code",
   "execution_count": 424,
   "metadata": {},
   "outputs": [
    {
     "data": {
      "text/plain": [
       "(17, 17)"
      ]
     },
     "execution_count": 424,
     "metadata": {},
     "output_type": "execute_result"
    }
   ],
   "source": [
    "final_dashboard.shape"
   ]
  },
  {
   "cell_type": "code",
   "execution_count": 425,
   "metadata": {},
   "outputs": [
    {
     "data": {
      "text/plain": [
       "(17, 6)"
      ]
     },
     "execution_count": 425,
     "metadata": {},
     "output_type": "execute_result"
    }
   ],
   "source": [
    "week_data.shape"
   ]
  },
  {
   "cell_type": "code",
   "execution_count": 426,
   "metadata": {},
   "outputs": [
    {
     "data": {
      "text/plain": [
       "(17, 6)"
      ]
     },
     "execution_count": 426,
     "metadata": {},
     "output_type": "execute_result"
    }
   ],
   "source": [
    "month_data.shape"
   ]
  },
  {
   "cell_type": "code",
   "execution_count": 427,
   "metadata": {},
   "outputs": [
    {
     "data": {
      "text/plain": [
       "(17, 4)"
      ]
     },
     "execution_count": 427,
     "metadata": {},
     "output_type": "execute_result"
    }
   ],
   "source": [
    "quarter_data.shape"
   ]
  },
  {
   "cell_type": "code",
   "execution_count": 428,
   "metadata": {},
   "outputs": [
    {
     "data": {
      "text/plain": [
       "(17, 1)"
      ]
     },
     "execution_count": 428,
     "metadata": {},
     "output_type": "execute_result"
    }
   ],
   "source": [
    "ytd_data.shape"
   ]
  }
 ],
 "metadata": {
  "kernelspec": {
   "display_name": "Python 3",
   "language": "python",
   "name": "python3"
  },
  "language_info": {
   "codemirror_mode": {
    "name": "ipython",
    "version": 3
   },
   "file_extension": ".py",
   "mimetype": "text/x-python",
   "name": "python",
   "nbconvert_exporter": "python",
   "pygments_lexer": "ipython3",
   "version": "3.7.1"
  }
 },
 "nbformat": 4,
 "nbformat_minor": 2
}
