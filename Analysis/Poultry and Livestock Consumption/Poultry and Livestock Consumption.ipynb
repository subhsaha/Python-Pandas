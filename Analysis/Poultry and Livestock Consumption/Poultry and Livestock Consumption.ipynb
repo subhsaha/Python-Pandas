{
 "cells": [
  {
   "cell_type": "code",
   "execution_count": 14,
   "metadata": {},
   "outputs": [],
   "source": [
    "import pandas as pd\n",
    "import matplotlib.pyplot as plt\n"
   ]
  },
  {
   "cell_type": "code",
   "execution_count": 2,
   "metadata": {},
   "outputs": [],
   "source": [
    "df=pd.read_excel('Poultry and Livestock Consumption.xlsx')"
   ]
  },
  {
   "cell_type": "code",
   "execution_count": 3,
   "metadata": {},
   "outputs": [
    {
     "data": {
      "text/html": [
       "<div>\n",
       "<style scoped>\n",
       "    .dataframe tbody tr th:only-of-type {\n",
       "        vertical-align: middle;\n",
       "    }\n",
       "\n",
       "    .dataframe tbody tr th {\n",
       "        vertical-align: top;\n",
       "    }\n",
       "\n",
       "    .dataframe thead th {\n",
       "        text-align: right;\n",
       "    }\n",
       "</style>\n",
       "<table border=\"1\" class=\"dataframe\">\n",
       "  <thead>\n",
       "    <tr style=\"text-align: right;\">\n",
       "      <th></th>\n",
       "      <th>Year</th>\n",
       "      <th>Actual/Forecast</th>\n",
       "      <th>Beef</th>\n",
       "      <th>Pork</th>\n",
       "      <th>Total Red Meat</th>\n",
       "      <th>Broilers</th>\n",
       "      <th>Other Chicken</th>\n",
       "      <th>Total Chicken</th>\n",
       "      <th>Turkey</th>\n",
       "      <th>Total Poultry</th>\n",
       "      <th>Total Red Meat &amp; Poultry</th>\n",
       "      <th>Commercial Fish &amp; Shell-Fish</th>\n",
       "    </tr>\n",
       "  </thead>\n",
       "  <tbody>\n",
       "    <tr>\n",
       "      <th>0</th>\n",
       "      <td>1960</td>\n",
       "      <td>Actual</td>\n",
       "      <td>63.3</td>\n",
       "      <td>59.1</td>\n",
       "      <td>133.0</td>\n",
       "      <td>23.6</td>\n",
       "      <td>4.4</td>\n",
       "      <td>28.0</td>\n",
       "      <td>6.2</td>\n",
       "      <td>34.2</td>\n",
       "      <td>167.2</td>\n",
       "      <td>10.3</td>\n",
       "    </tr>\n",
       "    <tr>\n",
       "      <th>1</th>\n",
       "      <td>1965</td>\n",
       "      <td>Actual</td>\n",
       "      <td>74.7</td>\n",
       "      <td>51.5</td>\n",
       "      <td>133.9</td>\n",
       "      <td>32.4</td>\n",
       "      <td>4.0</td>\n",
       "      <td>36.4</td>\n",
       "      <td>7.6</td>\n",
       "      <td>44.0</td>\n",
       "      <td>177.9</td>\n",
       "      <td>10.9</td>\n",
       "    </tr>\n",
       "    <tr>\n",
       "      <th>2</th>\n",
       "      <td>1966</td>\n",
       "      <td>Actual</td>\n",
       "      <td>78.1</td>\n",
       "      <td>50.3</td>\n",
       "      <td>135.8</td>\n",
       "      <td>32.1</td>\n",
       "      <td>3.7</td>\n",
       "      <td>35.8</td>\n",
       "      <td>7.9</td>\n",
       "      <td>43.7</td>\n",
       "      <td>179.5</td>\n",
       "      <td>10.9</td>\n",
       "    </tr>\n",
       "    <tr>\n",
       "      <th>3</th>\n",
       "      <td>1967</td>\n",
       "      <td>Actual</td>\n",
       "      <td>79.8</td>\n",
       "      <td>55.0</td>\n",
       "      <td>141.6</td>\n",
       "      <td>32.6</td>\n",
       "      <td>4.0</td>\n",
       "      <td>36.7</td>\n",
       "      <td>8.7</td>\n",
       "      <td>45.3</td>\n",
       "      <td>187.0</td>\n",
       "      <td>10.6</td>\n",
       "    </tr>\n",
       "    <tr>\n",
       "      <th>4</th>\n",
       "      <td>1968</td>\n",
       "      <td>Actual</td>\n",
       "      <td>82.0</td>\n",
       "      <td>56.2</td>\n",
       "      <td>144.6</td>\n",
       "      <td>32.9</td>\n",
       "      <td>4.0</td>\n",
       "      <td>36.9</td>\n",
       "      <td>8.1</td>\n",
       "      <td>44.9</td>\n",
       "      <td>189.6</td>\n",
       "      <td>11.0</td>\n",
       "    </tr>\n",
       "  </tbody>\n",
       "</table>\n",
       "</div>"
      ],
      "text/plain": [
       "   Year Actual/Forecast  Beef  Pork  Total Red Meat  Broilers  Other Chicken  \\\n",
       "0  1960          Actual  63.3  59.1           133.0      23.6            4.4   \n",
       "1  1965          Actual  74.7  51.5           133.9      32.4            4.0   \n",
       "2  1966          Actual  78.1  50.3           135.8      32.1            3.7   \n",
       "3  1967          Actual  79.8  55.0           141.6      32.6            4.0   \n",
       "4  1968          Actual  82.0  56.2           144.6      32.9            4.0   \n",
       "\n",
       "   Total Chicken  Turkey  Total Poultry  Total Red Meat & Poultry  \\\n",
       "0           28.0     6.2           34.2                     167.2   \n",
       "1           36.4     7.6           44.0                     177.9   \n",
       "2           35.8     7.9           43.7                     179.5   \n",
       "3           36.7     8.7           45.3                     187.0   \n",
       "4           36.9     8.1           44.9                     189.6   \n",
       "\n",
       "   Commercial Fish & Shell-Fish  \n",
       "0                          10.3  \n",
       "1                          10.9  \n",
       "2                          10.9  \n",
       "3                          10.6  \n",
       "4                          11.0  "
      ]
     },
     "execution_count": 3,
     "metadata": {},
     "output_type": "execute_result"
    }
   ],
   "source": [
    "df.head()"
   ]
  },
  {
   "cell_type": "code",
   "execution_count": 4,
   "metadata": {},
   "outputs": [
    {
     "data": {
      "text/plain": [
       "(55, 12)"
      ]
     },
     "execution_count": 4,
     "metadata": {},
     "output_type": "execute_result"
    }
   ],
   "source": [
    "df.shape"
   ]
  },
  {
   "cell_type": "code",
   "execution_count": 5,
   "metadata": {},
   "outputs": [
    {
     "data": {
      "text/plain": [
       "Year                              int64\n",
       "Actual/Forecast                  object\n",
       "Beef                            float64\n",
       "Pork                            float64\n",
       "Total Red Meat                  float64\n",
       "Broilers                        float64\n",
       "Other Chicken                   float64\n",
       "Total Chicken                   float64\n",
       "Turkey                          float64\n",
       "Total Poultry                   float64\n",
       "Total Red Meat & Poultry        float64\n",
       "Commercial Fish & Shell-Fish    float64\n",
       "dtype: object"
      ]
     },
     "execution_count": 5,
     "metadata": {},
     "output_type": "execute_result"
    }
   ],
   "source": [
    "df.dtypes"
   ]
  },
  {
   "cell_type": "code",
   "execution_count": 22,
   "metadata": {},
   "outputs": [
    {
     "data": {
      "text/plain": [
       "<matplotlib.axes._subplots.AxesSubplot at 0x114cb9940>"
      ]
     },
     "execution_count": 22,
     "metadata": {},
     "output_type": "execute_result"
    },
    {
     "data": {
      "image/png": "[encoded data removed]",
      "text/plain": [
       "<Figure size 432x288 with 1 Axes>"
      ]
     },
     "metadata": {
      "needs_background": "light"
     },
     "output_type": "display_data"
    }
   ],
   "source": [
    "df.Year.diff().plot()"
   ]
  },
  {
   "cell_type": "code",
   "execution_count": null,
   "metadata": {},
   "outputs": [],
   "source": []
  }
 ],
 "metadata": {
  "kernelspec": {
   "display_name": "Python 3",
   "language": "python",
   "name": "python3"
  },
  "language_info": {
   "codemirror_mode": {
    "name": "ipython",
    "version": 3
   },
   "file_extension": ".py",
   "mimetype": "text/x-python",
   "name": "python",
   "nbconvert_exporter": "python",
   "pygments_lexer": "ipython3",
   "version": "3.7.1"
  }
 },
 "nbformat": 4,
 "nbformat_minor": 2
}
